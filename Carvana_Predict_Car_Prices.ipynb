{
  "nbformat": 4,
  "nbformat_minor": 0,
  "metadata": {
    "colab": {
      "provenance": [],
      "collapsed_sections": [
        "4YAjlPqi6pKf",
        "dau8jsKg6o1D",
        "sf-VExlaM0qa",
        "uq6dZe5GP_Mx",
        "54UePEFDOY06",
        "ihoEuiHR0ptf",
        "3d11t8WiFU55"
      ],
      "toc_visible": true,
      "authorship_tag": "ABX9TyOxy/jIgA+v+dkakizphxmN",
      "include_colab_link": true
    },
    "kernelspec": {
      "name": "python3",
      "display_name": "Python 3"
    },
    "language_info": {
      "name": "python"
    },
    "gpuClass": "standard"
  },
  "cells": [
    {
      "cell_type": "markdown",
      "metadata": {
        "id": "view-in-github",
        "colab_type": "text"
      },
      "source": [
        "<a href=\"https://colab.research.google.com/github/flohmannjr/Carvana-Predict-Car-Prices/blob/main/Carvana_Predict_Car_Prices.ipynb\" target=\"_parent\"><img src=\"https://colab.research.google.com/assets/colab-badge.svg\" alt=\"Open In Colab\"/></a>"
      ]
    },
    {
      "cell_type": "markdown",
      "source": [
        "# Carvana - Predict Car Prices"
      ],
      "metadata": {
        "id": "3nyPGnkOuLEC"
      }
    },
    {
      "cell_type": "markdown",
      "source": [
        "https://www.kaggle.com/datasets/ravishah1/carvana-predict-car-Preços"
      ],
      "metadata": {
        "id": "OCZHfgUpuSDO"
      }
    },
    {
      "cell_type": "code",
      "source": [
        "import numpy as np\n",
        "import pandas as pd\n",
        "\n",
        "import matplotlib.pyplot as plt\n",
        "import seaborn as sns\n",
        "\n",
        "from sklearn.ensemble import RandomForestRegressor\n",
        "# from sklearn.linear_model import LinearRegression\n",
        "# from sklearn.neural_network import MLPRegressor\n",
        "# from sklearn.svm import SVR\n",
        "# from sklearn.tree import DecisionTreeRegressor\n",
        "\n",
        "from sklearn.metrics import mean_absolute_error, mean_squared_error, mean_absolute_percentage_error\n",
        "# from sklearn.model_selection import GridSearchCV, train_test_split\n",
        "from sklearn.model_selection import train_test_split\n",
        "# from sklearn.preprocessing import MinMaxScaler\n",
        "from sklearn.preprocessing import StandardScaler\n",
        "\n",
        "# import tensorflow as tf\n",
        "\n",
        "# from tensorflow.data import AUTOTUNE, Dataset\n",
        "# from tensorflow.keras import Sequential\n",
        "# from tensorflow.keras.callbacks import EarlyStopping, ReduceLROnPlateau\n",
        "# from tensorflow.keras.layers import Dense\n",
        "# from tensorflow.keras.optimizers import Adam"
      ],
      "metadata": {
        "id": "j_LaaGcTvn0W"
      },
      "execution_count": 1,
      "outputs": []
    },
    {
      "cell_type": "markdown",
      "source": [
        "# Configurações"
      ],
      "metadata": {
        "id": "sZBsYjuH_bj2"
      }
    },
    {
      "cell_type": "code",
      "source": [
        "plt.rcParams['figure.figsize'] = [8, 5]\n",
        "plt.rcParams['figure.dpi'] = 100\n",
        "\n",
        "plt.style.use('seaborn-darkgrid')"
      ],
      "metadata": {
        "id": "2rCtS1aLwa6e"
      },
      "execution_count": 2,
      "outputs": []
    },
    {
      "cell_type": "markdown",
      "source": [
        "## Constantes"
      ],
      "metadata": {
        "id": "k-Poxs9BoPk4"
      }
    },
    {
      "cell_type": "code",
      "source": [
        "SEMENTE = 2008193\n",
        "\n",
        "# TAMANHO_CNN = 128\n",
        "# TAMANHO_SAIDA = 1\n",
        "\n",
        "# ATIVACAO_CNN = 'relu'\n",
        "# ATIVACAO_SAIDA = 'linear'\n",
        "\n",
        "# PERDA = 'mse'\n",
        "# APRENDIZADO = 0.001\n",
        "\n",
        "# TAMANHO_LOTE = 256\n",
        "\n",
        "# ITERACOES = 1000\n",
        "# INICIALIZADOR = 'he_normal'"
      ],
      "metadata": {
        "id": "ACxZi5Q7oT8L"
      },
      "execution_count": 3,
      "outputs": []
    },
    {
      "cell_type": "markdown",
      "source": [
        "# Funções"
      ],
      "metadata": {
        "id": "3aROF2gT7SGm"
      }
    },
    {
      "cell_type": "code",
      "source": [
        "def obter_metricas(y_test, y_pred):\n",
        "\n",
        "    mae = mean_absolute_error(y_test, y_pred)\n",
        "    rmse = np.sqrt(mean_squared_error(y_test, y_pred))\n",
        "    mape = mean_absolute_percentage_error(y_test, y_pred)\n",
        "\n",
        "    return {'Mean Absolute Error': mae,\n",
        "            'Root Mean Squared Error': rmse,\n",
        "            'Mean Absolute Percentage Error': mape}\n",
        "\n",
        "# def obter_modelos(dados_treino,\n",
        "#                   dados_teste,\n",
        "#                   modelos_por_perda=5,\n",
        "#                   iteracoes=1000,\n",
        "#                   funcoes_perda=['mae', 'mse', 'mape']):\n",
        "\n",
        "#     conjunto_modelos = []\n",
        "\n",
        "#     for m in range(modelos_por_perda):\n",
        "\n",
        "#         for perda in funcoes_perda:\n",
        "\n",
        "#             modelo_nome = f'conjunto_modelo_{m}_perda_{perda}'\n",
        "\n",
        "#             print(f\"Treinando modelo {modelo_nome} com {iteracoes} iterações.\")\n",
        "\n",
        "#             modelo = Sequential(name=modelo_nome)\n",
        "\n",
        "#             [modelo.add(Dense(units=TAMANHO_CNN, kernel_initializer=INICIALIZADOR, activation=ATIVACAO_CNN, name=f'camada_relu_{c}')) for c in range(4)]\n",
        "#             modelo.add(Dense(units=TAMANHO_SAIDA, activation=ATIVACAO_SAIDA, name='camada_saida'))\n",
        "\n",
        "#             modelo.compile(loss=perda, optimizer=Adam(learning_rate=APRENDIZADO))\n",
        "            \n",
        "#             modelo.fit(dados_treino,\n",
        "#                        epochs=iteracoes,\n",
        "#                        validation_data=dados_teste,\n",
        "#                        callbacks=[EarlyStopping(monitor='val_loss', patience=100, restore_best_weights=True),\n",
        "#                                   ReduceLROnPlateau(monitor='val_loss', patience=50)],\n",
        "#                        verbose=0)\n",
        "            \n",
        "#             conjunto_modelos.append(modelo)\n",
        "\n",
        "#     return conjunto_modelos\n",
        "\n",
        "# def obter_previsoes(modelos, dados_teste):\n",
        "    \n",
        "#     conjunto_previsoes = []\n",
        "\n",
        "#     for modelo in modelos:\n",
        "\n",
        "#         print(f'Prevendo com modelo {modelo.name}.')\n",
        "\n",
        "#         previsoes = modelo.predict(dados_teste)\n",
        "\n",
        "#         conjunto_previsoes.append(previsoes)\n",
        "    \n",
        "#     return tf.constant(tf.squeeze(conjunto_previsoes))"
      ],
      "metadata": {
        "id": "WxCTnJbB7T07"
      },
      "execution_count": 4,
      "outputs": []
    },
    {
      "cell_type": "markdown",
      "source": [
        "# Dados"
      ],
      "metadata": {
        "id": "T3Bt4tu44yFG"
      }
    },
    {
      "cell_type": "code",
      "source": [
        "df = pd.read_csv('https://raw.githubusercontent.com/flohmannjr/Carvana-Predict-Car-Prices/main/carvana.csv')"
      ],
      "metadata": {
        "id": "Bk_Z9ea-wd2m"
      },
      "execution_count": 5,
      "outputs": []
    },
    {
      "cell_type": "code",
      "source": [
        "df = df.rename(columns={'Name': 'Descrição', 'Year': 'Ano', 'Miles': 'Milhagem', 'Price': 'Preço'})"
      ],
      "metadata": {
        "id": "Ad55sAq1BNn-"
      },
      "execution_count": 6,
      "outputs": []
    },
    {
      "cell_type": "code",
      "source": [
        "df.info()"
      ],
      "metadata": {
        "colab": {
          "base_uri": "https://localhost:8080/"
        },
        "id": "vLohxkSKws59",
        "outputId": "a4a227b0-e575-425c-c3da-964150b26308"
      },
      "execution_count": 7,
      "outputs": [
        {
          "output_type": "stream",
          "name": "stdout",
          "text": [
            "<class 'pandas.core.frame.DataFrame'>\n",
            "RangeIndex: 22000 entries, 0 to 21999\n",
            "Data columns (total 4 columns):\n",
            " #   Column     Non-Null Count  Dtype \n",
            "---  ------     --------------  ----- \n",
            " 0   Descrição  22000 non-null  object\n",
            " 1   Ano        22000 non-null  int64 \n",
            " 2   Milhagem   22000 non-null  int64 \n",
            " 3   Preço      22000 non-null  int64 \n",
            "dtypes: int64(3), object(1)\n",
            "memory usage: 687.6+ KB\n"
          ]
        }
      ]
    },
    {
      "cell_type": "markdown",
      "source": [
        "## Pré-processamento"
      ],
      "metadata": {
        "id": "P5gKKt4k440c"
      }
    },
    {
      "cell_type": "code",
      "source": [
        "# df['Ano'].value_counts()"
      ],
      "metadata": {
        "id": "6b6WeWF9000U"
      },
      "execution_count": 8,
      "outputs": []
    },
    {
      "cell_type": "code",
      "source": [
        "df['Ano'] = df['Ano'].astype(str).str[:4].astype(int)"
      ],
      "metadata": {
        "id": "bF0CflzuxuQd"
      },
      "execution_count": 9,
      "outputs": []
    },
    {
      "cell_type": "code",
      "source": [
        "# df.duplicated().sum()"
      ],
      "metadata": {
        "id": "bWOtfLKfzjIG"
      },
      "execution_count": 10,
      "outputs": []
    },
    {
      "cell_type": "code",
      "source": [
        "df.drop_duplicates(inplace=True)"
      ],
      "metadata": {
        "id": "ankbk61603xY"
      },
      "execution_count": 11,
      "outputs": []
    },
    {
      "cell_type": "code",
      "source": [
        "descricao = df['Descrição'].str.split()\n",
        "\n",
        "df['Marca']       = descricao.str[0]\n",
        "df['Modelo']      = descricao.str[1:].str.join(' ')\n",
        "df['Esporte']     = 1 if 'Sport' in descricao else 0\n",
        "df['Conversível'] = 1 if 'Cab' in descricao else 0"
      ],
      "metadata": {
        "id": "M1MM8fj--3PE"
      },
      "execution_count": 12,
      "outputs": []
    },
    {
      "cell_type": "code",
      "source": [
        "# len(df['Marca'].unique()), len(df['Modelo'].unique())"
      ],
      "metadata": {
        "id": "H3Y7LJsWwwLl"
      },
      "execution_count": 13,
      "outputs": []
    },
    {
      "cell_type": "code",
      "source": [
        "df.drop('Descrição', axis=1, inplace=True)"
      ],
      "metadata": {
        "id": "wRsP_-dTJHK4"
      },
      "execution_count": 14,
      "outputs": []
    },
    {
      "cell_type": "code",
      "source": [
        "# df = pd.get_dummies(df)"
      ],
      "metadata": {
        "id": "McbHkuIFJRmb"
      },
      "execution_count": 15,
      "outputs": []
    },
    {
      "cell_type": "code",
      "source": [
        "df['Marca']  = df['Marca'].astype('category').cat.codes\n",
        "df['Modelo'] = df['Modelo'].astype('category').cat.codes"
      ],
      "metadata": {
        "id": "C_jXCmFJKUls"
      },
      "execution_count": 16,
      "outputs": []
    },
    {
      "cell_type": "code",
      "source": [
        "df[:5]"
      ],
      "metadata": {
        "colab": {
          "base_uri": "https://localhost:8080/",
          "height": 206
        },
        "id": "37bpB2NQJTmp",
        "outputId": "c2e196b0-6ac0-4547-813e-807d6992c227"
      },
      "execution_count": 17,
      "outputs": [
        {
          "output_type": "execute_result",
          "data": {
            "text/plain": [
              "    Ano  Milhagem  Preço  Marca  Modelo  Esporte  Conversível\n",
              "0  2018     41946  16990      6     350        0            0\n",
              "1  2020     45328  23990     11     338        0            0\n",
              "2  2012     81068  21590     17     370        0            0\n",
              "3  2019     35372  21590     17     265        0            0\n",
              "4  2017     68992  22990      3     372        0            0"
            ],
            "text/html": [
              "\n",
              "  <div id=\"df-ef05c978-77f9-473e-9ecd-72e4d1c4c789\">\n",
              "    <div class=\"colab-df-container\">\n",
              "      <div>\n",
              "<style scoped>\n",
              "    .dataframe tbody tr th:only-of-type {\n",
              "        vertical-align: middle;\n",
              "    }\n",
              "\n",
              "    .dataframe tbody tr th {\n",
              "        vertical-align: top;\n",
              "    }\n",
              "\n",
              "    .dataframe thead th {\n",
              "        text-align: right;\n",
              "    }\n",
              "</style>\n",
              "<table border=\"1\" class=\"dataframe\">\n",
              "  <thead>\n",
              "    <tr style=\"text-align: right;\">\n",
              "      <th></th>\n",
              "      <th>Ano</th>\n",
              "      <th>Milhagem</th>\n",
              "      <th>Preço</th>\n",
              "      <th>Marca</th>\n",
              "      <th>Modelo</th>\n",
              "      <th>Esporte</th>\n",
              "      <th>Conversível</th>\n",
              "    </tr>\n",
              "  </thead>\n",
              "  <tbody>\n",
              "    <tr>\n",
              "      <th>0</th>\n",
              "      <td>2018</td>\n",
              "      <td>41946</td>\n",
              "      <td>16990</td>\n",
              "      <td>6</td>\n",
              "      <td>350</td>\n",
              "      <td>0</td>\n",
              "      <td>0</td>\n",
              "    </tr>\n",
              "    <tr>\n",
              "      <th>1</th>\n",
              "      <td>2020</td>\n",
              "      <td>45328</td>\n",
              "      <td>23990</td>\n",
              "      <td>11</td>\n",
              "      <td>338</td>\n",
              "      <td>0</td>\n",
              "      <td>0</td>\n",
              "    </tr>\n",
              "    <tr>\n",
              "      <th>2</th>\n",
              "      <td>2012</td>\n",
              "      <td>81068</td>\n",
              "      <td>21590</td>\n",
              "      <td>17</td>\n",
              "      <td>370</td>\n",
              "      <td>0</td>\n",
              "      <td>0</td>\n",
              "    </tr>\n",
              "    <tr>\n",
              "      <th>3</th>\n",
              "      <td>2019</td>\n",
              "      <td>35372</td>\n",
              "      <td>21590</td>\n",
              "      <td>17</td>\n",
              "      <td>265</td>\n",
              "      <td>0</td>\n",
              "      <td>0</td>\n",
              "    </tr>\n",
              "    <tr>\n",
              "      <th>4</th>\n",
              "      <td>2017</td>\n",
              "      <td>68992</td>\n",
              "      <td>22990</td>\n",
              "      <td>3</td>\n",
              "      <td>372</td>\n",
              "      <td>0</td>\n",
              "      <td>0</td>\n",
              "    </tr>\n",
              "  </tbody>\n",
              "</table>\n",
              "</div>\n",
              "      <button class=\"colab-df-convert\" onclick=\"convertToInteractive('df-ef05c978-77f9-473e-9ecd-72e4d1c4c789')\"\n",
              "              title=\"Convert this dataframe to an interactive table.\"\n",
              "              style=\"display:none;\">\n",
              "        \n",
              "  <svg xmlns=\"http://www.w3.org/2000/svg\" height=\"24px\"viewBox=\"0 0 24 24\"\n",
              "       width=\"24px\">\n",
              "    <path d=\"M0 0h24v24H0V0z\" fill=\"none\"/>\n",
              "    <path d=\"M18.56 5.44l.94 2.06.94-2.06 2.06-.94-2.06-.94-.94-2.06-.94 2.06-2.06.94zm-11 1L8.5 8.5l.94-2.06 2.06-.94-2.06-.94L8.5 2.5l-.94 2.06-2.06.94zm10 10l.94 2.06.94-2.06 2.06-.94-2.06-.94-.94-2.06-.94 2.06-2.06.94z\"/><path d=\"M17.41 7.96l-1.37-1.37c-.4-.4-.92-.59-1.43-.59-.52 0-1.04.2-1.43.59L10.3 9.45l-7.72 7.72c-.78.78-.78 2.05 0 2.83L4 21.41c.39.39.9.59 1.41.59.51 0 1.02-.2 1.41-.59l7.78-7.78 2.81-2.81c.8-.78.8-2.07 0-2.86zM5.41 20L4 18.59l7.72-7.72 1.47 1.35L5.41 20z\"/>\n",
              "  </svg>\n",
              "      </button>\n",
              "      \n",
              "  <style>\n",
              "    .colab-df-container {\n",
              "      display:flex;\n",
              "      flex-wrap:wrap;\n",
              "      gap: 12px;\n",
              "    }\n",
              "\n",
              "    .colab-df-convert {\n",
              "      background-color: #E8F0FE;\n",
              "      border: none;\n",
              "      border-radius: 50%;\n",
              "      cursor: pointer;\n",
              "      display: none;\n",
              "      fill: #1967D2;\n",
              "      height: 32px;\n",
              "      padding: 0 0 0 0;\n",
              "      width: 32px;\n",
              "    }\n",
              "\n",
              "    .colab-df-convert:hover {\n",
              "      background-color: #E2EBFA;\n",
              "      box-shadow: 0px 1px 2px rgba(60, 64, 67, 0.3), 0px 1px 3px 1px rgba(60, 64, 67, 0.15);\n",
              "      fill: #174EA6;\n",
              "    }\n",
              "\n",
              "    [theme=dark] .colab-df-convert {\n",
              "      background-color: #3B4455;\n",
              "      fill: #D2E3FC;\n",
              "    }\n",
              "\n",
              "    [theme=dark] .colab-df-convert:hover {\n",
              "      background-color: #434B5C;\n",
              "      box-shadow: 0px 1px 3px 1px rgba(0, 0, 0, 0.15);\n",
              "      filter: drop-shadow(0px 1px 2px rgba(0, 0, 0, 0.3));\n",
              "      fill: #FFFFFF;\n",
              "    }\n",
              "  </style>\n",
              "\n",
              "      <script>\n",
              "        const buttonEl =\n",
              "          document.querySelector('#df-ef05c978-77f9-473e-9ecd-72e4d1c4c789 button.colab-df-convert');\n",
              "        buttonEl.style.display =\n",
              "          google.colab.kernel.accessAllowed ? 'block' : 'none';\n",
              "\n",
              "        async function convertToInteractive(key) {\n",
              "          const element = document.querySelector('#df-ef05c978-77f9-473e-9ecd-72e4d1c4c789');\n",
              "          const dataTable =\n",
              "            await google.colab.kernel.invokeFunction('convertToInteractive',\n",
              "                                                     [key], {});\n",
              "          if (!dataTable) return;\n",
              "\n",
              "          const docLinkHtml = 'Like what you see? Visit the ' +\n",
              "            '<a target=\"_blank\" href=https://colab.research.google.com/notebooks/data_table.ipynb>data table notebook</a>'\n",
              "            + ' to learn more about interactive tables.';\n",
              "          element.innerHTML = '';\n",
              "          dataTable['output_type'] = 'display_data';\n",
              "          await google.colab.output.renderOutput(dataTable, element);\n",
              "          const docLink = document.createElement('div');\n",
              "          docLink.innerHTML = docLinkHtml;\n",
              "          element.appendChild(docLink);\n",
              "        }\n",
              "      </script>\n",
              "    </div>\n",
              "  </div>\n",
              "  "
            ]
          },
          "metadata": {},
          "execution_count": 17
        }
      ]
    },
    {
      "cell_type": "code",
      "source": [
        "df['Ano'].value_counts()"
      ],
      "metadata": {
        "colab": {
          "base_uri": "https://localhost:8080/"
        },
        "id": "rhL-Y84nys3d",
        "outputId": "e7aa2642-5b28-4752-f275-0cffd6c618a1"
      },
      "execution_count": 18,
      "outputs": [
        {
          "output_type": "execute_result",
          "data": {
            "text/plain": [
              "2016    1077\n",
              "2017    1075\n",
              "2015     977\n",
              "2018     968\n",
              "2019     941\n",
              "2020     907\n",
              "2021     817\n",
              "2014     810\n",
              "2013     638\n",
              "2012     440\n",
              "2022     278\n",
              "2011     202\n",
              "2010     133\n",
              "2009      52\n",
              "2023       3\n",
              "Name: Ano, dtype: int64"
            ]
          },
          "metadata": {},
          "execution_count": 18
        }
      ]
    },
    {
      "cell_type": "code",
      "source": [
        "sns.lineplot(data=df['Ano'].value_counts());"
      ],
      "metadata": {
        "colab": {
          "base_uri": "https://localhost:8080/",
          "height": 433
        },
        "id": "A37nE5VVzAo1",
        "outputId": "f9c12618-fe99-4987-fea2-aae9f10aa463"
      },
      "execution_count": 19,
      "outputs": [
        {
          "output_type": "display_data",
          "data": {
            "text/plain": [
              "<Figure size 800x500 with 1 Axes>"
            ],
            "image/png": "[encoded data removed]"
          },
          "metadata": {}
        }
      ]
    },
    {
      "cell_type": "markdown",
      "source": [
        "## Separação treino e teste"
      ],
      "metadata": {
        "id": "9xLImJdA5Das"
      }
    },
    {
      "cell_type": "code",
      "source": [
        "X = df.drop('Preço', axis=1)\n",
        "y = df['Preço']"
      ],
      "metadata": {
        "id": "iIeQ4iwX2jMt"
      },
      "execution_count": 20,
      "outputs": []
    },
    {
      "cell_type": "code",
      "source": [
        "X_train, X_test, y_train, y_test = train_test_split(X, y, test_size=0.2, random_state=SEMENTE)"
      ],
      "metadata": {
        "id": "nDU5EYMI4rBd"
      },
      "execution_count": 21,
      "outputs": []
    },
    {
      "cell_type": "code",
      "source": [
        "# scaler = MinMaxScaler()\n",
        "scaler = StandardScaler()\n",
        "\n",
        "X_train = scaler.fit_transform(X_train)\n",
        "X_test = scaler.transform(X_test)"
      ],
      "metadata": {
        "id": "iaXfGvA15RwD"
      },
      "execution_count": 22,
      "outputs": []
    },
    {
      "cell_type": "markdown",
      "source": [
        "## Criação de datasets"
      ],
      "metadata": {
        "id": "4YAjlPqi6pKf"
      }
    },
    {
      "cell_type": "code",
      "source": [
        "# dataset_X_train    = Dataset.from_tensor_slices(X_train)\n",
        "# dataset_X_test     = Dataset.from_tensor_slices(X_test)\n",
        "# dataset_y_train    = Dataset.from_tensor_slices(y_train)\n",
        "# dataset_y_test     = Dataset.from_tensor_slices(y_test)\n",
        "\n",
        "# dataset_train = Dataset.zip((dataset_X_train, dataset_y_train))\n",
        "# dataset_test  = Dataset.zip((dataset_X_test, dataset_y_test))\n",
        "\n",
        "# dataset_train = dataset_train.batch(TAMANHO_LOTE).prefetch(AUTOTUNE)\n",
        "# dataset_test  = dataset_test.batch(TAMANHO_LOTE).prefetch(AUTOTUNE)"
      ],
      "metadata": {
        "id": "VD6lzQl-6s7c"
      },
      "execution_count": 23,
      "outputs": []
    },
    {
      "cell_type": "markdown",
      "source": [
        "# Modelos"
      ],
      "metadata": {
        "id": "ex_Fo3ts5rn7"
      }
    },
    {
      "cell_type": "code",
      "source": [
        "metricas = [None] * 10"
      ],
      "metadata": {
        "id": "0hM7lkXT9G-2"
      },
      "execution_count": 24,
      "outputs": []
    },
    {
      "cell_type": "markdown",
      "source": [
        "## Modelo 1: Linear"
      ],
      "metadata": {
        "id": "dau8jsKg6o1D"
      }
    },
    {
      "cell_type": "code",
      "source": [
        "# %%time\n",
        "\n",
        "# lir = LinearRegression()\n",
        "\n",
        "# lir.fit(X_train, y_train)\n",
        "\n",
        "# y_pred = lir.predict(X_test)\n",
        "\n",
        "# metricas[1] = obter_metricas(y_test, y_pred)"
      ],
      "metadata": {
        "id": "yF9cpcX_6uFM"
      },
      "execution_count": 25,
      "outputs": []
    },
    {
      "cell_type": "code",
      "source": [
        "# metricas[1]"
      ],
      "metadata": {
        "id": "e862YC2SLfbM"
      },
      "execution_count": 26,
      "outputs": []
    },
    {
      "cell_type": "markdown",
      "source": [
        "## Modelo 2: SVM"
      ],
      "metadata": {
        "id": "sf-VExlaM0qa"
      }
    },
    {
      "cell_type": "code",
      "source": [
        "# %%time\n",
        "\n",
        "# svr = SVR(kernel='linear', degree=2, shrinking=False)\n",
        "\n",
        "# svr.fit(X_train, y_train)\n",
        "\n",
        "# y_pred = svr.predict(X_test)\n",
        "\n",
        "# metricas[2] = obter_metricas(y_test, y_pred)"
      ],
      "metadata": {
        "id": "ajrZPn1nM4u5"
      },
      "execution_count": 27,
      "outputs": []
    },
    {
      "cell_type": "code",
      "source": [
        "# metricas[2]"
      ],
      "metadata": {
        "id": "Swk3E9O3L4e8"
      },
      "execution_count": 28,
      "outputs": []
    },
    {
      "cell_type": "markdown",
      "source": [
        "## Modelo 3: Decision Tree"
      ],
      "metadata": {
        "id": "uq6dZe5GP_Mx"
      }
    },
    {
      "cell_type": "code",
      "source": [
        "# %%time\n",
        "\n",
        "# dtr = DecisionTreeRegressor()\n",
        "\n",
        "# dtr.fit(X_train, y_train)\n",
        "\n",
        "# y_pred = dtr.predict(X_test)\n",
        "\n",
        "# metricas[3] = obter_metricas(y_test, y_pred)"
      ],
      "metadata": {
        "id": "WNEZawbaP_Mx"
      },
      "execution_count": 29,
      "outputs": []
    },
    {
      "cell_type": "code",
      "source": [
        "# metricas[3]"
      ],
      "metadata": {
        "id": "sEtiFsYAMDzX"
      },
      "execution_count": 30,
      "outputs": []
    },
    {
      "cell_type": "markdown",
      "source": [
        "## Modelo 4: Random Forest"
      ],
      "metadata": {
        "id": "liysDkdyNes6"
      }
    },
    {
      "cell_type": "code",
      "source": [
        "%%time\n",
        "\n",
        "rfr = RandomForestRegressor(n_estimators=200, bootstrap=True, oob_score=True, warm_start=True, random_state=SEMENTE)\n",
        "\n",
        "rfr.fit(X_train, y_train)\n",
        "\n",
        "y_pred = rfr.predict(X_test)\n",
        "\n",
        "metricas[4] = obter_metricas(y_test, y_pred)"
      ],
      "metadata": {
        "colab": {
          "base_uri": "https://localhost:8080/"
        },
        "id": "94Gc1s1xNes6",
        "outputId": "e27cc74e-0a5d-4bc2-fabb-3ad7becfc8a7"
      },
      "execution_count": 31,
      "outputs": [
        {
          "output_type": "stream",
          "name": "stdout",
          "text": [
            "CPU times: user 5.81 s, sys: 186 ms, total: 6 s\n",
            "Wall time: 11.8 s\n"
          ]
        }
      ]
    },
    {
      "cell_type": "code",
      "source": [
        "metricas[4]"
      ],
      "metadata": {
        "colab": {
          "base_uri": "https://localhost:8080/"
        },
        "id": "WpijrmBSMEvv",
        "outputId": "af713212-d179-4f0c-ae1f-fdaed3de5271"
      },
      "execution_count": 32,
      "outputs": [
        {
          "output_type": "execute_result",
          "data": {
            "text/plain": [
              "{'Mean Absolute Error': 2200.280964547568,\n",
              " 'Root Mean Squared Error': 4340.7422827860755,\n",
              " 'Mean Absolute Percentage Error': 0.0914564674888168}"
            ]
          },
          "metadata": {},
          "execution_count": 32
        }
      ]
    },
    {
      "cell_type": "markdown",
      "source": [
        "## Modelo 5: MLPR"
      ],
      "metadata": {
        "id": "54UePEFDOY06"
      }
    },
    {
      "cell_type": "code",
      "source": [
        "# %%time\n",
        "\n",
        "# mlp = MLPRegressor(max_iter=ITERACOES, learning_rate_init=APRENDIZADO)\n",
        "\n",
        "# mlp.fit(X_train, y_train)\n",
        "\n",
        "# y_pred = mlp.predict(X_test)\n",
        "\n",
        "# metricas[5] = obter_metricas(y_test, y_pred)"
      ],
      "metadata": {
        "id": "4zWoGdsMOY06"
      },
      "execution_count": 33,
      "outputs": []
    },
    {
      "cell_type": "code",
      "source": [
        "# metricas[5]"
      ],
      "metadata": {
        "id": "DqhOxiDFMF_L"
      },
      "execution_count": 34,
      "outputs": []
    },
    {
      "cell_type": "markdown",
      "source": [
        "## Modelo 6: Dense"
      ],
      "metadata": {
        "id": "ihoEuiHR0ptf"
      }
    },
    {
      "cell_type": "code",
      "source": [
        "# %%time\n",
        "\n",
        "# tf.random.set_seed(SEMENTE)\n",
        "\n",
        "# tfd = Sequential()\n",
        "\n",
        "# [tfd.add(Dense(units=TAMANHO_CNN, activation=ATIVACAO_CNN)) for _ in range(4)]\n",
        "# tfd.add(Dense(units=TAMANHO_SAIDA, activation=ATIVACAO_SAIDA))\n",
        "\n",
        "# tfd.compile(loss=PERDA,\n",
        "#             optimizer=Adam(learning_rate=APRENDIZADO))\n",
        "\n",
        "# tfd.fit(dataset_train,\n",
        "#         epochs=ITERACOES,\n",
        "#         validation_data=dataset_test,\n",
        "#         callbacks=[EarlyStopping(monitor='val_loss', patience=100, restore_best_weights=True),\n",
        "#                    ReduceLROnPlateau(monitor='val_loss', patience=50)],\n",
        "#         verbose=0)\n",
        "\n",
        "# y_pred = tfd.predict(dataset_test)\n",
        "\n",
        "# metricas[6] = obter_metricas(y_test, tf.squeeze(y_pred))"
      ],
      "metadata": {
        "id": "-FygSTzC0tGr"
      },
      "execution_count": 35,
      "outputs": []
    },
    {
      "cell_type": "code",
      "source": [
        "# metricas[6]"
      ],
      "metadata": {
        "id": "BfrNEaAiMHjr"
      },
      "execution_count": 36,
      "outputs": []
    },
    {
      "cell_type": "markdown",
      "source": [
        "## Modelo 7: Ensemble"
      ],
      "metadata": {
        "id": "3d11t8WiFU55"
      }
    },
    {
      "cell_type": "code",
      "source": [
        "# %%time\n",
        "\n",
        "# conjunto_modelos         = obter_modelos(dataset_train, dataset_test)\n",
        "# conjunto_previsoes       = obter_previsoes(conjunto_modelos, dataset_test)\n",
        "# conjunto_previsoes_media = tf.reduce_mean(conjunto_previsoes, axis=0)\n",
        "\n",
        "# metricas[7] = obter_metricas(y_test, tf.squeeze(conjunto_previsoes_media))"
      ],
      "metadata": {
        "id": "c1PmB5L0FXvv"
      },
      "execution_count": 37,
      "outputs": []
    },
    {
      "cell_type": "code",
      "source": [
        "# metricas[7]"
      ],
      "metadata": {
        "id": "YLDTUnohMJL1"
      },
      "execution_count": 38,
      "outputs": []
    },
    {
      "cell_type": "markdown",
      "source": [
        "# Comparação dos modelos"
      ],
      "metadata": {
        "id": "WPqSJZ6tb3mw"
      }
    },
    {
      "cell_type": "code",
      "source": [
        "# df['Preço'].describe()"
      ],
      "metadata": {
        "id": "B5ur5NaIOHDg"
      },
      "execution_count": 39,
      "outputs": []
    },
    {
      "cell_type": "code",
      "source": [
        "# df_metricas = pd.DataFrame([m for m in metricas if m is not None])\n",
        "# df_metricas.T"
      ],
      "metadata": {
        "id": "gGpdJZvsb69d"
      },
      "execution_count": 40,
      "outputs": []
    },
    {
      "cell_type": "code",
      "source": [
        "# df_metricas['Root Mean Squared Error'].sort_values()"
      ],
      "metadata": {
        "id": "vyLxmIVWy80S"
      },
      "execution_count": 41,
      "outputs": []
    },
    {
      "cell_type": "code",
      "source": [],
      "metadata": {
        "id": "bTwj4aUN9eV2"
      },
      "execution_count": 41,
      "outputs": []
    }
  ]
}